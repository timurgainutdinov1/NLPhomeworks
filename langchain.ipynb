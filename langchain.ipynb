{
  "cells": [
    {
      "cell_type": "markdown",
      "metadata": {
        "id": "m48heTTIp51K"
      },
      "source": [
        "## Установка библиотек"
      ]
    },
    {
      "cell_type": "code",
      "execution_count": 1,
      "metadata": {
        "id": "_jsiiBGxIfmT"
      },
      "outputs": [],
      "source": [
        "%%capture\n",
        "!pip install langchain langchain_community langchain-ollama"
      ]
    },
    {
      "cell_type": "markdown",
      "metadata": {
        "id": "CafqJIudp51O"
      },
      "source": [
        "## Установка Ollama"
      ]
    },
    {
      "cell_type": "code",
      "execution_count": 2,
      "metadata": {
        "id": "WnxylqDRIfiG"
      },
      "outputs": [],
      "source": [
        "%%capture\n",
        "!curl https://ollama.ai/install.sh | sh"
      ]
    },
    {
      "cell_type": "markdown",
      "metadata": {
        "id": "9pRpvIEup51P"
      },
      "source": [
        "## Импорты"
      ]
    },
    {
      "cell_type": "code",
      "execution_count": 3,
      "metadata": {
        "id": "gT7jHSdxIff-"
      },
      "outputs": [],
      "source": [
        "import math\n",
        "import os\n",
        "import subprocess\n",
        "import threading\n",
        "from math import pi\n",
        "\n",
        "import pandas as pd\n",
        "from langchain_ollama.llms import OllamaLLM\n",
        "from tqdm import tqdm\n",
        "\n",
        "from langchain.agents import AgentType, initialize_agent, tool\n",
        "from langchain.output_parsers import ResponseSchema, StructuredOutputParser\n",
        "from langchain.prompts import PromptTemplate\n",
        "\n",
        "seed = 42"
      ]
    },
    {
      "cell_type": "markdown",
      "metadata": {
        "id": "KeV4Kr6vp51Q"
      },
      "source": [
        "## Запуск Ollama и инициализация модели"
      ]
    },
    {
      "cell_type": "code",
      "execution_count": 4,
      "metadata": {
        "id": "WyawtjGgxuzr"
      },
      "outputs": [],
      "source": [
        "def ollama():\n",
        "    os.environ[\"OLLAMA_HOST\"] = \"0.0.0.0:11434\"\n",
        "    os.environ[\"OLLAMA_ORIGINS\"] = \"*\"\n",
        "    subprocess.Popen([\"ollama\", \"serve\"])"
      ]
    },
    {
      "cell_type": "code",
      "execution_count": 5,
      "metadata": {
        "id": "PSLAXUpbBpwe"
      },
      "outputs": [],
      "source": [
        "ollama_thread = threading.Thread(target=ollama)\n",
        "ollama_thread.start()"
      ]
    },
    {
      "cell_type": "markdown",
      "metadata": {
        "id": "MPtLqz82p51S"
      },
      "source": [
        "В качестве LLM будем использовать **qwen2.5** на 14 миллиардов параметров с квантизацией."
      ]
    },
    {
      "cell_type": "code",
      "execution_count": null,
      "metadata": {
        "colab": {
          "base_uri": "https://localhost:8080/"
        },
        "collapsed": true,
        "id": "QWpPl5wZKx0w",
        "outputId": "2f8125d1-41a7-4151-d4e6-4b31055fc779"
      },
      "outputs": [],
      "source": [
        "!ollama run qwen2.5:14b"
      ]
    },
    {
      "cell_type": "code",
      "execution_count": 7,
      "metadata": {
        "id": "od7uacWoRRK9"
      },
      "outputs": [],
      "source": [
        "ollama_thread = threading.Thread(target=ollama)\n",
        "ollama_thread.start()"
      ]
    },
    {
      "cell_type": "code",
      "execution_count": 8,
      "metadata": {
        "id": "nZiXuUZEKxws"
      },
      "outputs": [],
      "source": [
        "model = OllamaLLM(model=\"qwen2.5:14b\")"
      ]
    },
    {
      "cell_type": "markdown",
      "metadata": {
        "id": "-GTn8CiVjsvg"
      },
      "source": [
        "## Парсинг данных"
      ]
    },
    {
      "cell_type": "code",
      "execution_count": 9,
      "metadata": {
        "id": "rSmosrDgJT1a"
      },
      "outputs": [],
      "source": [
        "df = pd.read_csv(\n",
        "    \"https://stepik.org/media/attachments/lesson/1110806/vacancies_messages_50.csv\"\n",
        ")"
      ]
    },
    {
      "cell_type": "markdown",
      "metadata": {
        "id": "IuxDIIcfp51T"
      },
      "source": [
        "Зададим текст промта с указанием необходимых инструкций.  \n",
        "С целью повышения качества ответов модели укажем, что ответ очень важен для нас, а также назначим чаевые."
      ]
    },
    {
      "cell_type": "code",
      "execution_count": 10,
      "metadata": {
        "id": "EL04tEKjNJTI"
      },
      "outputs": [],
      "source": [
        "template = \"\"\"Из следующего текста извлеки информацию:\n",
        "\n",
        "job_title: Название вакансии без указания грейда\n",
        "(например, Senior Python Developer -> Python Developer).\n",
        "Если нет или неизвестно, верни null.\n",
        "\n",
        "company: Название компании, как указано в описании, без дополнительных описаний\n",
        "(например, \"финтех\", \"крупная компания\").\n",
        "Если нет или неизвестно, верни null.\n",
        "\n",
        "salary: Значение зарплаты:\n",
        "- Числа без пробелов. Если указано \"тыс.\" или \"к.\", умножай на 1000.\n",
        "- После числа указывай валюту (руб. или $).\n",
        "- Диапазоны пишутся через тире без пробелов (например, 100000-150000 руб.).\n",
        "- Если указана только нижняя граница, добавляй \"от\" перед числом\n",
        "(например, от 100000 руб.).\n",
        "- Если указана только верхняя граница, добавляй \"до\" перед числом\n",
        "(например, до 150000 руб.).\n",
        "- Если зарплата указана за час, добавляй \"в час\" в конце.\n",
        "- Исключай информацию о бонусах, премиях, процентах,\n",
        "ДМС и других дополнительных выплатах.\n",
        "Если нет или неизвестно, верни null.\n",
        "\n",
        "tg: Контакт в Telegram. Указывай с @. Если контактов несколько,\n",
        "перечисляй через запятую с пробелом после запятой. Если нет или неизвестно, верни null.\n",
        "\n",
        "grade: Грейд вакансии (возможные значения: intern, junior, junior+, middle, middle+, senior, lead).\n",
        "Если указано несколько, перечисляй через запятую в порядке возрастания с пробелом после запятой.\n",
        "Если нет или неизвестно, верни null.\n",
        "\n",
        "Строго следуй переданным инструкциям! От этого зависят несколько жизней!\n",
        "Если выполнишь задачу на отлично, то получишь чаевые 10$!\n",
        "\n",
        "###\n",
        "\n",
        "Текст\n",
        "text: {text}\n",
        "\n",
        "###\n",
        "\n",
        "{format_instructions}\n",
        "\"\"\"\n",
        "\n",
        "prompt = PromptTemplate.from_template(template=template)"
      ]
    },
    {
      "cell_type": "markdown",
      "metadata": {
        "id": "XcR7iNNDp51T"
      },
      "source": [
        "Зададим схемы для парсера выхода."
      ]
    },
    {
      "cell_type": "code",
      "execution_count": 11,
      "metadata": {
        "id": "fNAsGT43dGmh"
      },
      "outputs": [],
      "source": [
        "job_title_schema = ResponseSchema(\n",
        "    name=\"job_title\",\n",
        "    description=\"Название вакансии без грейда. Если нет или неизвестно, верни null.\",\n",
        ")\n",
        "\n",
        "company_schema = ResponseSchema(\n",
        "    name=\"company\",\n",
        "    description=\"Название компании. Если нет или неизвестно, верни null.\",\n",
        ")\n",
        "\n",
        "salary_schema = ResponseSchema(\n",
        "    name=\"salary\",\n",
        "    description=\"\"\"\n",
        "    Значение зарплаты:\n",
        "    - Числа без пробелов. Если указано \"тыс.\" или \"к.\", умножай на 1000.\n",
        "    - После числа указывай валюту (руб. или $).\n",
        "    - Диапазоны пишутся через тире без пробелов.\n",
        "    - Если указана только нижняя граница, добавляй \"от\" перед числом.\n",
        "    - Если указана только верхняя граница, добавляй \"до\" перед числом.\n",
        "    - Если зарплата указана за час, добавляй \"в час\" в конце.\n",
        "    - Исключай информацию о бонусах, премиях, процентах и других дополнительных выплатах.\n",
        "    Если нет или неизвестно, верни null.\n",
        "    \"\"\",\n",
        ")\n",
        "\n",
        "tg_schema = ResponseSchema(\n",
        "    name=\"tg\",\n",
        "    description=\"\"\"Контакт в Telegram. Указывай с @.\n",
        "    Если контактов несколько, перечисляй через запятую с\n",
        "    пробелом после запятой. Если нет или неизвестно, верни null.\n",
        "    \"\"\",\n",
        ")\n",
        "\n",
        "grade_schema = ResponseSchema(\n",
        "    name=\"grade\",\n",
        "    description=\"\"\"Грейд вакансии.\n",
        "    Если указано несколько, перечисляй через запятую в порядке возрастания.\n",
        "    Если нет или неизвестно, верни null.\n",
        "    \"\"\",\n",
        ")\n",
        "\n",
        "response_schemas = [\n",
        "    job_title_schema,\n",
        "    company_schema,\n",
        "    salary_schema,\n",
        "    tg_schema,\n",
        "    grade_schema,\n",
        "]"
      ]
    },
    {
      "cell_type": "markdown",
      "metadata": {
        "id": "urdlzGnUp51T"
      },
      "source": [
        "Проинициализируем парсер и получим инструкции для выхода модели."
      ]
    },
    {
      "cell_type": "code",
      "execution_count": 12,
      "metadata": {
        "id": "EZsse2QaNdUc"
      },
      "outputs": [],
      "source": [
        "output_parser = StructuredOutputParser.from_response_schemas(\n",
        "    response_schemas\n",
        ")\n",
        "format_instructions = (\n",
        "    output_parser.get_format_instructions()\n",
        ")"
      ]
    },
    {
      "cell_type": "markdown",
      "metadata": {
        "id": "-sloSSg5p51T"
      },
      "source": [
        "Зададим словарь для обработки некорректных выводов модели.  \n",
        "При возникновении ошибок все поля будем заполнять *None*."
      ]
    },
    {
      "cell_type": "code",
      "execution_count": 13,
      "metadata": {
        "id": "ZbOHQrnvlf3k"
      },
      "outputs": [],
      "source": [
        "empty_dict = {\n",
        "    \"job_title\": None,\n",
        "    \"company\": None,\n",
        "    \"salary\": None,\n",
        "    \"tg\": None,\n",
        "    \"grade\": None,\n",
        "}"
      ]
    },
    {
      "cell_type": "markdown",
      "metadata": {
        "id": "2LzqVXkhp51T"
      },
      "source": [
        "Выполним парсинг данных при помощи LLM."
      ]
    },
    {
      "cell_type": "code",
      "execution_count": 14,
      "metadata": {
        "colab": {
          "base_uri": "https://localhost:8080/"
        },
        "id": "SWsJsUf5NLKV",
        "outputId": "6bd84269-67a2-4d6e-cb03-6023caf3d2ac"
      },
      "outputs": [
        {
          "name": "stderr",
          "output_type": "stream",
          "text": [
            "100%|██████████| 50/50 [05:44<00:00,  6.90s/it]\n"
          ]
        }
      ],
      "source": [
        "dict_list = []\n",
        "for text_input in tqdm(df[\"text\"]):\n",
        "    query = prompt.format(text=text_input, format_instructions=format_instructions)\n",
        "    response = model.invoke(query)\n",
        "    try:\n",
        "        dict_list.append(output_parser.parse(response))\n",
        "    except:\n",
        "        dict_list.append(empty_dict)"
      ]
    },
    {
      "cell_type": "markdown",
      "metadata": {
        "id": "3QEd6p-3p51U"
      },
      "source": [
        "Соберем датафрейм с исходными данными и результатами парсинга."
      ]
    },
    {
      "cell_type": "code",
      "execution_count": 15,
      "metadata": {
        "id": "pFZI2q1SbJuq"
      },
      "outputs": [],
      "source": [
        "result_df = pd.DataFrame(dict_list)\n",
        "ans_df = pd.concat([df, result_df], axis=1)"
      ]
    },
    {
      "cell_type": "code",
      "execution_count": 16,
      "metadata": {
        "id": "36vc6aT0uJfu"
      },
      "outputs": [],
      "source": [
        "result_cols = result_df.columns"
      ]
    },
    {
      "cell_type": "markdown",
      "metadata": {
        "id": "yZZxuQhEsRYt"
      },
      "source": [
        "## Анализ результатов парсинга"
      ]
    },
    {
      "cell_type": "code",
      "execution_count": 17,
      "metadata": {
        "id": "GF7wg-rPshHX"
      },
      "outputs": [],
      "source": [
        "pd.set_option('display.max_colwidth', None)"
      ]
    },
    {
      "cell_type": "code",
      "execution_count": 18,
      "metadata": {
        "id": "HQdwTG-RsUSI"
      },
      "outputs": [],
      "source": [
        "vac_res_sample = ans_df.sample(5, random_state=seed).reset_index(drop=True)"
      ]
    },
    {
      "cell_type": "code",
      "execution_count": 19,
      "metadata": {
        "colab": {
          "base_uri": "https://localhost:8080/"
        },
        "id": "X2mwtXXKs61B",
        "outputId": "6137d9ff-80ef-411c-e483-a5b18c0851a6"
      },
      "outputs": [
        {
          "name": "stdout",
          "output_type": "stream",
          "text": [
            "#job #вакансия #работа #fulltime  #TS #Typescript #vue #frontend #удаленка #senior\n",
            "\n",
            "Вакансия: Frontend разработчик\n",
            "Компания: Travelata\n",
            "Город: Москва\n",
            "Вилка: 280к-320к.net\n",
            "Формат: удаленный\n",
            "\n",
            "О компании:\n",
            "Travelata — крупная туристическая компания с международными инвестициями более 10 млн. долларов. Входит в группу компаний, работающих в 5 странах Европы, и является членом Альянса Туристических Агентств.\n",
            "\n",
            "Компания “Travelata” ищет senior frontend разработчика с опытом от 5 лет.\n",
            " \n",
            "🔸Технологический стек и используемые инструменты: Vue.js, Vuex, Typescript, Webpack, Backbone.js, Backbone.Epoxy, Angular.js, Bootstrap, jQuery,   jQuery Mobile, underscore.js.\n",
            " \n",
            "🔸Вам предстоит:\n",
            "-Проектировать и разрабатывать новые компоненты портала по поиску туров, рефакторить и дорабатывать существующие компоненты;\n",
            "-Верстать макеты, экспортированные из Sketch в Zeplin;\n",
            "-Писать unit-тесты на Jest;\n",
            "-Находить решения сложных задач и уметь самостоятельно превратить бизнес-идею в поддерживаемый код;\n",
            "-Активно участвовать в обсуждении задач, предлагать UI-UX решения и архитектурные решения Frontend задач;\n",
            "-Участвовать в переработке и усовершенствовании архитектуры и инфраструктуры проекта;\n",
            "-Активно предлагать и внедрять новые технологии в проект;\n",
            "-Проводить Code Review задач Middle и Senior разработчиков.\n",
            " \n",
            "🔸Мы ожидаем:\n",
            "-Уверенное владение фреймворком Vue.js;\n",
            "-Опыт разработки на Typescript;\n",
            "-Опыт написания Unit-тестов с использованием Jest;\n",
            "-Отличные знания Sass/Less, Vanilla Javascript;\n",
            "-Хорошие знания ООП и современных трендов разработки. Знание и понимание паттернов -проектирования;\n",
            "-Понимание принципов SSR и опыт работы с Nuxt.JS;\n",
            "-Pixel perfect верстка;\n",
            "-Умение писать семантически правильный html, соответствующий стандартам W3C;\n",
            "-Хороший уровень коммуникаций с окружающими и вдумчивое выполнение поставленных задач;\n",
            "-Пунктуальность, соблюдение сроков, хорошие навыки планирования, умение структурировать задачи.\n",
            "\n",
            "Плюсом будет продвинутый опыт настройки системы сборки проекта Webpack, опыт проектирования архитектуры приложения с нуля, опыт написания BFF приложений на Node JS, знание и понимание принципов построения фронтенда сложных приложений, опыт работы с docker. \n",
            "\n",
            "🔸Мы предлагаем:\n",
            "-Оформление по ТК РФ;\n",
            "-ДМС после испытательного срока;\n",
            "-Возможность удаленной работы;\n",
            "-График работы 5/2;\n",
            "-Скидки на все продукты компании;\n",
            "-Готовы предоставить необходимую технику для работы;\n",
            "\n",
            "ℹ️Для получения более подробной информации: @ann_gfio.\n"
          ]
        }
      ],
      "source": [
        "print(vac_res_sample.loc[0, 'text'])"
      ]
    },
    {
      "cell_type": "code",
      "execution_count": 20,
      "metadata": {
        "colab": {
          "base_uri": "https://localhost:8080/",
          "height": 241
        },
        "id": "-jm20zyvthQf",
        "outputId": "9225e029-298c-4a6f-88e5-779b9a798d7a"
      },
      "outputs": [
        {
          "data": {
            "text/html": [
              "<div>\n",
              "<style scoped>\n",
              "    .dataframe tbody tr th:only-of-type {\n",
              "        vertical-align: middle;\n",
              "    }\n",
              "\n",
              "    .dataframe tbody tr th {\n",
              "        vertical-align: top;\n",
              "    }\n",
              "\n",
              "    .dataframe thead th {\n",
              "        text-align: right;\n",
              "    }\n",
              "</style>\n",
              "<table border=\"1\" class=\"dataframe\">\n",
              "  <thead>\n",
              "    <tr style=\"text-align: right;\">\n",
              "      <th></th>\n",
              "      <th>0</th>\n",
              "    </tr>\n",
              "  </thead>\n",
              "  <tbody>\n",
              "    <tr>\n",
              "      <th>job_title</th>\n",
              "      <td>Frontend разработчик</td>\n",
              "    </tr>\n",
              "    <tr>\n",
              "      <th>company</th>\n",
              "      <td>Travelata</td>\n",
              "    </tr>\n",
              "    <tr>\n",
              "      <th>salary</th>\n",
              "      <td>280000-320000 руб.</td>\n",
              "    </tr>\n",
              "    <tr>\n",
              "      <th>tg</th>\n",
              "      <td>@ann_gfio</td>\n",
              "    </tr>\n",
              "    <tr>\n",
              "      <th>grade</th>\n",
              "      <td>senior</td>\n",
              "    </tr>\n",
              "  </tbody>\n",
              "</table>\n",
              "</div><br><label><b>dtype:</b> object</label>"
            ],
            "text/plain": [
              "job_title    Frontend разработчик\n",
              "company                 Travelata\n",
              "salary         280000-320000 руб.\n",
              "tg                      @ann_gfio\n",
              "grade                      senior\n",
              "Name: 0, dtype: object"
            ]
          },
          "execution_count": 20,
          "metadata": {},
          "output_type": "execute_result"
        }
      ],
      "source": [
        "vac_res_sample.loc[0, result_cols]"
      ]
    },
    {
      "cell_type": "markdown",
      "metadata": {
        "id": "8O3tjniYuk2N"
      },
      "source": [
        "Модель верно спарсила все необходимые поля."
      ]
    },
    {
      "cell_type": "code",
      "execution_count": 21,
      "metadata": {
        "colab": {
          "base_uri": "https://localhost:8080/"
        },
        "id": "g9SHr868vkXo",
        "outputId": "2d281a6b-624c-4724-a09f-9d39d645eca2"
      },
      "outputs": [
        {
          "name": "stdout",
          "output_type": "stream",
          "text": [
            "#copywriter #вакансия  #fulltime #удаленка  #remote #crypto #blockchain\n",
            "\n",
            "Компания: ALEX GROUP COMPANY\n",
            "Вилка: от 80 000 до 140 000 руб.\n",
            "Вакансия: Копирайтер в сфере крипты\n",
            "\n",
            "Мы в AlexGroup специализируемся на создании и переводе контента носителями на криптовалютную тематику и многие другие. \n",
            "\n",
            "Ищем копирайтера (менеджер в TG, linkedin, reddit) в крипто сфере\n",
            "\n",
            "Требования:\n",
            "— Уверенное владение английским языком: разговорный и письменный;\n",
            "— Опыт работы с крипто, блокчейн и финтех проектами обязателен;\n",
            "— Написание уникальных текстов  SEO-оптимизация, форматированные заголовками, абзацами, списками.;\n",
            "— Составление официальных документов (питч-деки, WP, прочее).\n",
            "— Подготовка любого рода текстовых материалов: статей, в том числе аналитических, пресс-релизов, SMM текстов, продающих текстов, интервью и так дале\n",
            "\n",
            "Что мы предлагаем:\n",
            "— Fulltime-работа. Возможен гибкий график (с сохранением продуктивности)\n",
            "— Конкурентная ЗП от 80 000 до 140 000 р., подробнее обговорим лично\n",
            "— Работа в одной из топовых команд в своей сфере\n",
            "— Возможность выбора между офисом и удаленкой\n",
            "— Работа в приятной атмосфере со всей атрибутикой лучших офисов планеты \n",
            "— Курсы по повышению квалификации от компании\n",
            "\n",
            "Контакты: @danilavaren\n"
          ]
        }
      ],
      "source": [
        "print(vac_res_sample.loc[1, 'text'])"
      ]
    },
    {
      "cell_type": "code",
      "execution_count": 22,
      "metadata": {
        "colab": {
          "base_uri": "https://localhost:8080/",
          "height": 241
        },
        "id": "DukusOrAvkXo",
        "outputId": "1d7f6593-64f2-4a36-919d-ceb8a6cd87e1"
      },
      "outputs": [
        {
          "data": {
            "text/html": [
              "<div>\n",
              "<style scoped>\n",
              "    .dataframe tbody tr th:only-of-type {\n",
              "        vertical-align: middle;\n",
              "    }\n",
              "\n",
              "    .dataframe tbody tr th {\n",
              "        vertical-align: top;\n",
              "    }\n",
              "\n",
              "    .dataframe thead th {\n",
              "        text-align: right;\n",
              "    }\n",
              "</style>\n",
              "<table border=\"1\" class=\"dataframe\">\n",
              "  <thead>\n",
              "    <tr style=\"text-align: right;\">\n",
              "      <th></th>\n",
              "      <th>1</th>\n",
              "    </tr>\n",
              "  </thead>\n",
              "  <tbody>\n",
              "    <tr>\n",
              "      <th>job_title</th>\n",
              "      <td>Копирайтер</td>\n",
              "    </tr>\n",
              "    <tr>\n",
              "      <th>company</th>\n",
              "      <td>ALEX GROUP COMPANY</td>\n",
              "    </tr>\n",
              "    <tr>\n",
              "      <th>salary</th>\n",
              "      <td>от 80000 до 140000 руб.</td>\n",
              "    </tr>\n",
              "    <tr>\n",
              "      <th>tg</th>\n",
              "      <td>@danilavaren</td>\n",
              "    </tr>\n",
              "    <tr>\n",
              "      <th>grade</th>\n",
              "      <td>None</td>\n",
              "    </tr>\n",
              "  </tbody>\n",
              "</table>\n",
              "</div><br><label><b>dtype:</b> object</label>"
            ],
            "text/plain": [
              "job_title                 Копирайтер\n",
              "company           ALEX GROUP COMPANY\n",
              "salary       от 80000 до 140000 руб.\n",
              "tg                      @danilavaren\n",
              "grade                           None\n",
              "Name: 1, dtype: object"
            ]
          },
          "execution_count": 22,
          "metadata": {},
          "output_type": "execute_result"
        }
      ],
      "source": [
        "vac_res_sample.loc[1, result_cols]"
      ]
    },
    {
      "cell_type": "markdown",
      "metadata": {
        "id": "ExDVyq3Kv0nZ"
      },
      "source": [
        "Модель справилась со всеми полями кроме зарплаты.  \n",
        "Модель вывела зарплату не через тире."
      ]
    },
    {
      "cell_type": "code",
      "execution_count": 23,
      "metadata": {
        "colab": {
          "base_uri": "https://localhost:8080/"
        },
        "id": "NBjTQsB7wAW4",
        "outputId": "0eba88a0-ceef-44f0-92ea-1d75d45d4bc2"
      },
      "outputs": [
        {
          "name": "stdout",
          "output_type": "stream",
          "text": [
            "#junior #vacancy #вакансия #recruiter\n",
            "\n",
            "Junior IT Recruiter\n",
            "Full-time | Remote\n",
            "\n",
            "Привет! 👋\n",
            "Меня зовут Настя, я рекрутер компании AIPeople. Наша команда занимается передовыми проектами в сфере финтеха. ML и блокчейн - это наша стихия. Работаем из офисов в Петербурге, на Кипре и удаленно.\n",
            "Сейчас мы ищем в нашу команду Junior IT Recruiter.\n",
            "Мы готовы рассмотреть кандидатов с минимальным опытом в IT подборе, но большим желанием развиваться в этом направлении. У нас небольшая команда из 2х человек, будем рады, если ты тоже к нам присоединишься!\n",
            "Спектр задач на позицию довольно стандартный. Что важнее - это твой подход к работе, самостоятельность и желание достичь результата!\n",
            "\n",
            "Чем предстоит заниматься:\n",
            " • Снятие заявки на вакансию, формирование профиля подходящего кандидата;\n",
            " • Формирование пула кандидатов используя различные источники, первый контакт с ними;\n",
            " • Ведение кандидата по всем этапам до оффера, предоставление оперативной обратной связи;\n",
            " • Ведение базы кандидатов (у нас Huntflow);\n",
            " • Мониторинг и анализ рынка.\n",
            "\n",
            "Что мы ищем в своем будущем коллеге:\n",
            " • Опыт работы IT рекрутером от полугода;\n",
            " • Самостоятельность;\n",
            " • Ты читаешь статьи и тг каналы по теме, слушаешь подкасты, у тебя есть профессиональные цели;\n",
            " • У тебя развитая эмпатия и эмоциональный интеллект;\n",
            " • Ты подходишь к работе ответственно и с душой.\n",
            "\n",
            "Что мы как компания можем тебе предложить:\n",
            " • AIPeople - компания с гибкими подходами, с большой свободой и ответственностью у каждого. Единственное, что у нас отсутствует - это бюрократия\n",
            " • Опыт работы с умными людьми и, соответственно, с нетривиальными технологиям;\n",
            " • Возможность работать удаленно, из любой удобной для тебя локации\n",
            "\n",
            "Если интересно с нами поработать - откликайся и обязательно напиши в сопроводительном письме какими нестандартные инструменты поиска ты используешь и через какой самый нетривиальный ресурс тебе удалось закрыть вакансию.\n",
            "\n",
            "Контакт для отклика: @nastyaishiring\n"
          ]
        }
      ],
      "source": [
        "print(vac_res_sample.loc[2, 'text'])"
      ]
    },
    {
      "cell_type": "code",
      "execution_count": 24,
      "metadata": {
        "colab": {
          "base_uri": "https://localhost:8080/",
          "height": 241
        },
        "id": "budIrGUuwAW5",
        "outputId": "02d7d988-7257-46e7-fd98-c35e6dfa0044"
      },
      "outputs": [
        {
          "data": {
            "text/html": [
              "<div>\n",
              "<style scoped>\n",
              "    .dataframe tbody tr th:only-of-type {\n",
              "        vertical-align: middle;\n",
              "    }\n",
              "\n",
              "    .dataframe tbody tr th {\n",
              "        vertical-align: top;\n",
              "    }\n",
              "\n",
              "    .dataframe thead th {\n",
              "        text-align: right;\n",
              "    }\n",
              "</style>\n",
              "<table border=\"1\" class=\"dataframe\">\n",
              "  <thead>\n",
              "    <tr style=\"text-align: right;\">\n",
              "      <th></th>\n",
              "      <th>2</th>\n",
              "    </tr>\n",
              "  </thead>\n",
              "  <tbody>\n",
              "    <tr>\n",
              "      <th>job_title</th>\n",
              "      <td>IT Recruiter</td>\n",
              "    </tr>\n",
              "    <tr>\n",
              "      <th>company</th>\n",
              "      <td>AIPeople</td>\n",
              "    </tr>\n",
              "    <tr>\n",
              "      <th>salary</th>\n",
              "      <td>None</td>\n",
              "    </tr>\n",
              "    <tr>\n",
              "      <th>tg</th>\n",
              "      <td>@nastyaishiring</td>\n",
              "    </tr>\n",
              "    <tr>\n",
              "      <th>grade</th>\n",
              "      <td>junior</td>\n",
              "    </tr>\n",
              "  </tbody>\n",
              "</table>\n",
              "</div><br><label><b>dtype:</b> object</label>"
            ],
            "text/plain": [
              "job_title       IT Recruiter\n",
              "company             AIPeople\n",
              "salary                  None\n",
              "tg           @nastyaishiring\n",
              "grade                 junior\n",
              "Name: 2, dtype: object"
            ]
          },
          "execution_count": 24,
          "metadata": {},
          "output_type": "execute_result"
        }
      ],
      "source": [
        "vac_res_sample.loc[2, result_cols]"
      ]
    },
    {
      "cell_type": "markdown",
      "metadata": {
        "id": "LOBLEDiVwp94"
      },
      "source": [
        "Модель справилась со всеми полями."
      ]
    },
    {
      "cell_type": "code",
      "execution_count": 25,
      "metadata": {
        "colab": {
          "base_uri": "https://localhost:8080/"
        },
        "id": "NFh97ZEoN6r9",
        "outputId": "2f9ceec2-1475-472b-cf77-42d9eaccabba"
      },
      "outputs": [
        {
          "name": "stdout",
          "output_type": "stream",
          "text": [
            "#вакансия\n",
            "\n",
            "Middle+/Senior Backend Engineer в стартап\n",
            "110 000 – 140 000 ₽/месяц\n",
            "Удаленка, парттайм\n",
            "\n",
            "Qlan  - AI стартап. Мы создаем NoCode ML платформу и нишевые сервисы для бизнеса. Наша команда - это  амбициозные и проактивные разработчики, нацеленные на изменение мира ML\n",
            "\n",
            "\n",
            "🎯 Примеры будущих задач:\n",
            "       - Разработка инфраструктуры для наших продуктов \n",
            "       - Разработка микросервисов для аутсорс заказов\n",
            "\n",
            "\n",
            "🗿Стек нашего идеального кандидата:\n",
            "      - Python, Docker, Git, Flask, FastAPI, Django\n",
            "\n",
            "\n",
            "🫶 Будет здорово, если вы: \n",
            "       - Имеете  крутые репозитории на github с большим количеством звездочек))))\n",
            "\n",
            "На связи: @laptev13\n"
          ]
        }
      ],
      "source": [
        "print(vac_res_sample.loc[3, 'text'])"
      ]
    },
    {
      "cell_type": "code",
      "execution_count": 26,
      "metadata": {
        "colab": {
          "base_uri": "https://localhost:8080/",
          "height": 241
        },
        "id": "rn5NbgnKN6r-",
        "outputId": "e52e1d47-a267-4464-f120-c813522ee790"
      },
      "outputs": [
        {
          "data": {
            "text/html": [
              "<div>\n",
              "<style scoped>\n",
              "    .dataframe tbody tr th:only-of-type {\n",
              "        vertical-align: middle;\n",
              "    }\n",
              "\n",
              "    .dataframe tbody tr th {\n",
              "        vertical-align: top;\n",
              "    }\n",
              "\n",
              "    .dataframe thead th {\n",
              "        text-align: right;\n",
              "    }\n",
              "</style>\n",
              "<table border=\"1\" class=\"dataframe\">\n",
              "  <thead>\n",
              "    <tr style=\"text-align: right;\">\n",
              "      <th></th>\n",
              "      <th>3</th>\n",
              "    </tr>\n",
              "  </thead>\n",
              "  <tbody>\n",
              "    <tr>\n",
              "      <th>job_title</th>\n",
              "      <td>Backend Engineer</td>\n",
              "    </tr>\n",
              "    <tr>\n",
              "      <th>company</th>\n",
              "      <td>Qlan</td>\n",
              "    </tr>\n",
              "    <tr>\n",
              "      <th>salary</th>\n",
              "      <td>110000-140000 руб.</td>\n",
              "    </tr>\n",
              "    <tr>\n",
              "      <th>tg</th>\n",
              "      <td>@laptev13</td>\n",
              "    </tr>\n",
              "    <tr>\n",
              "      <th>grade</th>\n",
              "      <td>middle+, senior</td>\n",
              "    </tr>\n",
              "  </tbody>\n",
              "</table>\n",
              "</div><br><label><b>dtype:</b> object</label>"
            ],
            "text/plain": [
              "job_title      Backend Engineer\n",
              "company                    Qlan\n",
              "salary       110000-140000 руб.\n",
              "tg                    @laptev13\n",
              "grade           middle+, senior\n",
              "Name: 3, dtype: object"
            ]
          },
          "execution_count": 26,
          "metadata": {},
          "output_type": "execute_result"
        }
      ],
      "source": [
        "vac_res_sample.loc[3, result_cols]"
      ]
    },
    {
      "cell_type": "markdown",
      "metadata": {
        "id": "KFtDt_C0TRsK"
      },
      "source": [
        "Модель справилась отлично, даже уловила два грейда."
      ]
    },
    {
      "cell_type": "code",
      "execution_count": 27,
      "metadata": {
        "colab": {
          "base_uri": "https://localhost:8080/"
        },
        "id": "U37fV10NN8_n",
        "outputId": "60b91878-1333-4ca8-809e-b8cba20afcc6"
      },
      "outputs": [
        {
          "name": "stdout",
          "output_type": "stream",
          "text": [
            "#job #вакансия #работа #fulltime #remote #python #django #удаленка  #senior \n",
            "\n",
            "Позиция: Senior Python developer\n",
            "Компания: Skillbox\n",
            "Формат: Удаленно/офис\n",
            "Местоположение: Россия, Москва\n",
            "Вилка: 300-400к .net \n",
            "Занятость: full-time\n",
            "\n",
            "Приглашаем тебя стать частью команды Skillbox — ведущей образовательной онлайн-платформы в России, которая объединяет ведущих экспертов и практиков рынка. Сейчас на платформе из более чем 800 образовательных продуктов, а также корпоративным обучением для бизнеса.\n",
            "\n",
            "В настоящий момент Skillbox активно ищет опытного Senior Python разработчика, с опытом работы не менее 5 лет, который готов присоединиться к их дружной команде, ответственной за развитие образовательной платформы.\n",
            "\n",
            "Технический стек: Python, Django, FastAPI, Redis,  RabbitMQ, pytest, PostgreSQL.\n",
            "\n",
            "Тебе предстоит:\n",
            "- Разрабатывать платформу обучения и связанных сервисов;\n",
            "- Проектировать архитектуру сервисов и их взаимодействий;\n",
            "- Покрывать код тестами (юниты/функциональные/интеграционные), codereview, разбирать ошибки;\n",
            "- Коммуницировать со смежными подразделениями (frontend, devops, management, QA и пр)\n",
            "\n",
            "А теперь об условиях:\n",
            "- Оформление по ТК РФ или другому удобному для тебя способу (ИП, ГПХ, самозанятость);\n",
            "- Возможность работать из любой точки мира;\n",
            "- Аккредитованная it-компания;\n",
            "- ДМС;\n",
            "- Бесплатный доступ ко всем курсам Skillbox;\n",
            "- Удаленная работа или комфортный офис около м.Октябрьская;\n",
            "- Гибкий график;\n",
            "- Корпоративные скидки от партнеров.\n",
            "\n",
            "Если хочешь узнать подробнее, пиши: @ann_gfio\n"
          ]
        }
      ],
      "source": [
        "print(vac_res_sample.loc[4, 'text'])"
      ]
    },
    {
      "cell_type": "code",
      "execution_count": 28,
      "metadata": {
        "colab": {
          "base_uri": "https://localhost:8080/",
          "height": 241
        },
        "id": "Fqa5Blv8N8_n",
        "outputId": "35631126-7967-4b34-fcbb-dc2cf194e5b3"
      },
      "outputs": [
        {
          "data": {
            "text/html": [
              "<div>\n",
              "<style scoped>\n",
              "    .dataframe tbody tr th:only-of-type {\n",
              "        vertical-align: middle;\n",
              "    }\n",
              "\n",
              "    .dataframe tbody tr th {\n",
              "        vertical-align: top;\n",
              "    }\n",
              "\n",
              "    .dataframe thead th {\n",
              "        text-align: right;\n",
              "    }\n",
              "</style>\n",
              "<table border=\"1\" class=\"dataframe\">\n",
              "  <thead>\n",
              "    <tr style=\"text-align: right;\">\n",
              "      <th></th>\n",
              "      <th>4</th>\n",
              "    </tr>\n",
              "  </thead>\n",
              "  <tbody>\n",
              "    <tr>\n",
              "      <th>job_title</th>\n",
              "      <td>Python developer</td>\n",
              "    </tr>\n",
              "    <tr>\n",
              "      <th>company</th>\n",
              "      <td>Skillbox</td>\n",
              "    </tr>\n",
              "    <tr>\n",
              "      <th>salary</th>\n",
              "      <td>300-400000 руб.</td>\n",
              "    </tr>\n",
              "    <tr>\n",
              "      <th>tg</th>\n",
              "      <td>@ann_gfio</td>\n",
              "    </tr>\n",
              "    <tr>\n",
              "      <th>grade</th>\n",
              "      <td>senior</td>\n",
              "    </tr>\n",
              "  </tbody>\n",
              "</table>\n",
              "</div><br><label><b>dtype:</b> object</label>"
            ],
            "text/plain": [
              "job_title    Python developer\n",
              "company              Skillbox\n",
              "salary        300-400000 руб.\n",
              "tg                  @ann_gfio\n",
              "grade                  senior\n",
              "Name: 4, dtype: object"
            ]
          },
          "execution_count": 28,
          "metadata": {},
          "output_type": "execute_result"
        }
      ],
      "source": [
        "vac_res_sample.loc[4, result_cols]"
      ]
    },
    {
      "cell_type": "markdown",
      "metadata": {
        "id": "UQGHMIYfOA5H"
      },
      "source": [
        "Модель ошиблась при парсинге зарплаты, вместо 300 тысяч. она восприняла текст в описании как 300."
      ]
    },
    {
      "cell_type": "markdown",
      "metadata": {
        "id": "IyB_xf15TqIP"
      },
      "source": [
        "В целом, результаты парсинга можно считать успешными.  \n",
        "Модель ошибается при парсинге зарплаты.  \n",
        "Вероятно, явное указание примеров парсинга зарплаты в промте поможет снизить вероятность ошибок модели в данном поле."
      ]
    },
    {
      "cell_type": "markdown",
      "metadata": {
        "id": "SQt0mpHzjytb"
      },
      "source": [
        "## Математические задачки"
      ]
    },
    {
      "cell_type": "code",
      "execution_count": 29,
      "metadata": {
        "colab": {
          "base_uri": "https://localhost:8080/",
          "height": 206
        },
        "id": "O8QD6w6np51U",
        "outputId": "98df674b-88ce-4ff9-8909-f112a72bfc7e"
      },
      "outputs": [
        {
          "data": {
            "application/vnd.google.colaboratory.intrinsic+json": {
              "summary": "{\n  \"name\": \"df\",\n  \"rows\": 10,\n  \"fields\": [\n    {\n      \"column\": \"task\",\n      \"properties\": {\n        \"dtype\": \"string\",\n        \"num_unique_values\": 10,\n        \"samples\": [\n          \"\\u0421\\u0442\\u043e\\u0440\\u043e\\u043d\\u044b \\u0442\\u0440\\u0435\\u0443\\u0433\\u043e\\u043b\\u044c\\u043d\\u0438\\u043a\\u0430 \\u0441\\u043e\\u043e\\u0442\\u0432\\u0435\\u0442\\u0441\\u0442\\u0432\\u0435\\u043d\\u043d\\u043e \\u0440\\u0430\\u0432\\u043d\\u044b 30 \\u0441\\u043c, 40 \\u0441\\u043c \\u0438 110010 \\u0441\\u043c (\\u043f\\u0435\\u0440\\u0435\\u0432\\u0435\\u0434\\u0438 \\u044d\\u0442\\u043e \\u0447\\u0438\\u0441\\u043b\\u043e \\u0438\\u0437 \\u0434\\u0432\\u043e\\u0438\\u0447\\u043d\\u043e\\u0439 \\u0441\\u0438\\u0441\\u0442\\u0435\\u043c\\u044b \\u0441\\u0447\\u0438\\u0441\\u043b\\u0435\\u043d\\u0438\\u044f \\u0432 \\u0434\\u0435\\u0441\\u044f\\u0442\\u0438\\u0447\\u043d\\u0443\\u044e). \\u041d\\u0430\\u0439\\u0434\\u0438 \\u043f\\u043b\\u043e\\u0449\\u0430\\u0434\\u044c \\u044d\\u0442\\u043e\\u0433\\u043e \\u0442\\u0440\\u0435\\u0443\\u0433\\u043e\\u043b\\u044c\\u043d\\u0438\\u043a\\u0430.\",\n          \"\\u041d\\u0430\\u0439\\u0434\\u0438 \\u0441\\u0443\\u043c\\u043c\\u0443 \\u043f\\u043b\\u043e\\u0449\\u0430\\u0434\\u0435\\u0439 \\u043a\\u0440\\u0443\\u0433\\u0430 \\u0441 \\u0440\\u0430\\u0434\\u0438\\u0443\\u0441\\u043e\\u043c 5 \\u0441\\u043c \\u0438 \\u043a\\u0440\\u0443\\u0433\\u0430 \\u0441 \\u0440\\u0430\\u0434\\u0438\\u0443\\u0441\\u043e\\u043c 3 \\u0441\\u043c.\",\n          \"\\u041d\\u0430\\u0439\\u0434\\u0438 \\u0434\\u043b\\u0438\\u043d\\u0443 \\u0434\\u0443\\u0433\\u0438 \\u043e\\u043a\\u0440\\u0443\\u0436\\u043d\\u043e\\u0441\\u0442\\u0438 \\u0441 \\u0440\\u0430\\u0434\\u0438\\u0443\\u0441\\u043e\\u043c 20 \\u043c, \\u043e\\u0431\\u0440\\u0430\\u0437\\u043e\\u0432\\u0430\\u043d\\u043d\\u043e\\u0439 \\u0446\\u0435\\u043d\\u0442\\u0440\\u0430\\u043b\\u044c\\u043d\\u044b\\u043c \\u0443\\u0433\\u043b\\u043e\\u043c 60\\u00b0, \\u0437\\u0430\\u0442\\u0435\\u043c \\u043f\\u0435\\u0440\\u0435\\u0432\\u0435\\u0434\\u0438 \\u0440\\u0435\\u0437\\u0443\\u043b\\u044c\\u0442\\u0430\\u0442 \\u0432 \\u0441\\u0430\\u043d\\u0442\\u0438\\u043c\\u0435\\u0442\\u0440\\u044b.\"\n        ],\n        \"semantic_type\": \"\",\n        \"description\": \"\"\n      }\n    }\n  ]\n}",
              "type": "dataframe",
              "variable_name": "df"
            },
            "text/html": [
              "\n",
              "  <div id=\"df-f8967691-f68e-4ed3-a27d-1e3bb1e0f02b\" class=\"colab-df-container\">\n",
              "    <div>\n",
              "<style scoped>\n",
              "    .dataframe tbody tr th:only-of-type {\n",
              "        vertical-align: middle;\n",
              "    }\n",
              "\n",
              "    .dataframe tbody tr th {\n",
              "        vertical-align: top;\n",
              "    }\n",
              "\n",
              "    .dataframe thead th {\n",
              "        text-align: right;\n",
              "    }\n",
              "</style>\n",
              "<table border=\"1\" class=\"dataframe\">\n",
              "  <thead>\n",
              "    <tr style=\"text-align: right;\">\n",
              "      <th></th>\n",
              "      <th>task</th>\n",
              "    </tr>\n",
              "  </thead>\n",
              "  <tbody>\n",
              "    <tr>\n",
              "      <th>0</th>\n",
              "      <td>Периметр прямоугольника со сторонами 1.5 м и 2 м. Отвей дай в сантиметрах.</td>\n",
              "    </tr>\n",
              "    <tr>\n",
              "      <th>1</th>\n",
              "      <td>Найди сумму площадей круга с радиусом 5 см и круга с радиусом 3 см.</td>\n",
              "    </tr>\n",
              "    <tr>\n",
              "      <th>2</th>\n",
              "      <td>Переведи числа 20 и 32 из десятичной в двоичную систему счисления и найди сумму единиц.</td>\n",
              "    </tr>\n",
              "    <tr>\n",
              "      <th>3</th>\n",
              "      <td>Переведи числа из двоичной системы счисления 1101011010 и 101011 и посчитай их сумму.</td>\n",
              "    </tr>\n",
              "    <tr>\n",
              "      <th>4</th>\n",
              "      <td>Найди объем цилиндра с радиусом 10 см и высотой 30 см, переведи результат в литры.</td>\n",
              "    </tr>\n",
              "  </tbody>\n",
              "</table>\n",
              "</div>\n",
              "    <div class=\"colab-df-buttons\">\n",
              "\n",
              "  <div class=\"colab-df-container\">\n",
              "    <button class=\"colab-df-convert\" onclick=\"convertToInteractive('df-f8967691-f68e-4ed3-a27d-1e3bb1e0f02b')\"\n",
              "            title=\"Convert this dataframe to an interactive table.\"\n",
              "            style=\"display:none;\">\n",
              "\n",
              "  <svg xmlns=\"http://www.w3.org/2000/svg\" height=\"24px\" viewBox=\"0 -960 960 960\">\n",
              "    <path d=\"M120-120v-720h720v720H120Zm60-500h600v-160H180v160Zm220 220h160v-160H400v160Zm0 220h160v-160H400v160ZM180-400h160v-160H180v160Zm440 0h160v-160H620v160ZM180-180h160v-160H180v160Zm440 0h160v-160H620v160Z\"/>\n",
              "  </svg>\n",
              "    </button>\n",
              "\n",
              "  <style>\n",
              "    .colab-df-container {\n",
              "      display:flex;\n",
              "      gap: 12px;\n",
              "    }\n",
              "\n",
              "    .colab-df-convert {\n",
              "      background-color: #E8F0FE;\n",
              "      border: none;\n",
              "      border-radius: 50%;\n",
              "      cursor: pointer;\n",
              "      display: none;\n",
              "      fill: #1967D2;\n",
              "      height: 32px;\n",
              "      padding: 0 0 0 0;\n",
              "      width: 32px;\n",
              "    }\n",
              "\n",
              "    .colab-df-convert:hover {\n",
              "      background-color: #E2EBFA;\n",
              "      box-shadow: 0px 1px 2px rgba(60, 64, 67, 0.3), 0px 1px 3px 1px rgba(60, 64, 67, 0.15);\n",
              "      fill: #174EA6;\n",
              "    }\n",
              "\n",
              "    .colab-df-buttons div {\n",
              "      margin-bottom: 4px;\n",
              "    }\n",
              "\n",
              "    [theme=dark] .colab-df-convert {\n",
              "      background-color: #3B4455;\n",
              "      fill: #D2E3FC;\n",
              "    }\n",
              "\n",
              "    [theme=dark] .colab-df-convert:hover {\n",
              "      background-color: #434B5C;\n",
              "      box-shadow: 0px 1px 3px 1px rgba(0, 0, 0, 0.15);\n",
              "      filter: drop-shadow(0px 1px 2px rgba(0, 0, 0, 0.3));\n",
              "      fill: #FFFFFF;\n",
              "    }\n",
              "  </style>\n",
              "\n",
              "    <script>\n",
              "      const buttonEl =\n",
              "        document.querySelector('#df-f8967691-f68e-4ed3-a27d-1e3bb1e0f02b button.colab-df-convert');\n",
              "      buttonEl.style.display =\n",
              "        google.colab.kernel.accessAllowed ? 'block' : 'none';\n",
              "\n",
              "      async function convertToInteractive(key) {\n",
              "        const element = document.querySelector('#df-f8967691-f68e-4ed3-a27d-1e3bb1e0f02b');\n",
              "        const dataTable =\n",
              "          await google.colab.kernel.invokeFunction('convertToInteractive',\n",
              "                                                    [key], {});\n",
              "        if (!dataTable) return;\n",
              "\n",
              "        const docLinkHtml = 'Like what you see? Visit the ' +\n",
              "          '<a target=\"_blank\" href=https://colab.research.google.com/notebooks/data_table.ipynb>data table notebook</a>'\n",
              "          + ' to learn more about interactive tables.';\n",
              "        element.innerHTML = '';\n",
              "        dataTable['output_type'] = 'display_data';\n",
              "        await google.colab.output.renderOutput(dataTable, element);\n",
              "        const docLink = document.createElement('div');\n",
              "        docLink.innerHTML = docLinkHtml;\n",
              "        element.appendChild(docLink);\n",
              "      }\n",
              "    </script>\n",
              "  </div>\n",
              "\n",
              "\n",
              "<div id=\"df-6ddeb029-c214-4268-a27d-185d738f2e99\">\n",
              "  <button class=\"colab-df-quickchart\" onclick=\"quickchart('df-6ddeb029-c214-4268-a27d-185d738f2e99')\"\n",
              "            title=\"Suggest charts\"\n",
              "            style=\"display:none;\">\n",
              "\n",
              "<svg xmlns=\"http://www.w3.org/2000/svg\" height=\"24px\"viewBox=\"0 0 24 24\"\n",
              "     width=\"24px\">\n",
              "    <g>\n",
              "        <path d=\"M19 3H5c-1.1 0-2 .9-2 2v14c0 1.1.9 2 2 2h14c1.1 0 2-.9 2-2V5c0-1.1-.9-2-2-2zM9 17H7v-7h2v7zm4 0h-2V7h2v10zm4 0h-2v-4h2v4z\"/>\n",
              "    </g>\n",
              "</svg>\n",
              "  </button>\n",
              "\n",
              "<style>\n",
              "  .colab-df-quickchart {\n",
              "      --bg-color: #E8F0FE;\n",
              "      --fill-color: #1967D2;\n",
              "      --hover-bg-color: #E2EBFA;\n",
              "      --hover-fill-color: #174EA6;\n",
              "      --disabled-fill-color: #AAA;\n",
              "      --disabled-bg-color: #DDD;\n",
              "  }\n",
              "\n",
              "  [theme=dark] .colab-df-quickchart {\n",
              "      --bg-color: #3B4455;\n",
              "      --fill-color: #D2E3FC;\n",
              "      --hover-bg-color: #434B5C;\n",
              "      --hover-fill-color: #FFFFFF;\n",
              "      --disabled-bg-color: #3B4455;\n",
              "      --disabled-fill-color: #666;\n",
              "  }\n",
              "\n",
              "  .colab-df-quickchart {\n",
              "    background-color: var(--bg-color);\n",
              "    border: none;\n",
              "    border-radius: 50%;\n",
              "    cursor: pointer;\n",
              "    display: none;\n",
              "    fill: var(--fill-color);\n",
              "    height: 32px;\n",
              "    padding: 0;\n",
              "    width: 32px;\n",
              "  }\n",
              "\n",
              "  .colab-df-quickchart:hover {\n",
              "    background-color: var(--hover-bg-color);\n",
              "    box-shadow: 0 1px 2px rgba(60, 64, 67, 0.3), 0 1px 3px 1px rgba(60, 64, 67, 0.15);\n",
              "    fill: var(--button-hover-fill-color);\n",
              "  }\n",
              "\n",
              "  .colab-df-quickchart-complete:disabled,\n",
              "  .colab-df-quickchart-complete:disabled:hover {\n",
              "    background-color: var(--disabled-bg-color);\n",
              "    fill: var(--disabled-fill-color);\n",
              "    box-shadow: none;\n",
              "  }\n",
              "\n",
              "  .colab-df-spinner {\n",
              "    border: 2px solid var(--fill-color);\n",
              "    border-color: transparent;\n",
              "    border-bottom-color: var(--fill-color);\n",
              "    animation:\n",
              "      spin 1s steps(1) infinite;\n",
              "  }\n",
              "\n",
              "  @keyframes spin {\n",
              "    0% {\n",
              "      border-color: transparent;\n",
              "      border-bottom-color: var(--fill-color);\n",
              "      border-left-color: var(--fill-color);\n",
              "    }\n",
              "    20% {\n",
              "      border-color: transparent;\n",
              "      border-left-color: var(--fill-color);\n",
              "      border-top-color: var(--fill-color);\n",
              "    }\n",
              "    30% {\n",
              "      border-color: transparent;\n",
              "      border-left-color: var(--fill-color);\n",
              "      border-top-color: var(--fill-color);\n",
              "      border-right-color: var(--fill-color);\n",
              "    }\n",
              "    40% {\n",
              "      border-color: transparent;\n",
              "      border-right-color: var(--fill-color);\n",
              "      border-top-color: var(--fill-color);\n",
              "    }\n",
              "    60% {\n",
              "      border-color: transparent;\n",
              "      border-right-color: var(--fill-color);\n",
              "    }\n",
              "    80% {\n",
              "      border-color: transparent;\n",
              "      border-right-color: var(--fill-color);\n",
              "      border-bottom-color: var(--fill-color);\n",
              "    }\n",
              "    90% {\n",
              "      border-color: transparent;\n",
              "      border-bottom-color: var(--fill-color);\n",
              "    }\n",
              "  }\n",
              "</style>\n",
              "\n",
              "  <script>\n",
              "    async function quickchart(key) {\n",
              "      const quickchartButtonEl =\n",
              "        document.querySelector('#' + key + ' button');\n",
              "      quickchartButtonEl.disabled = true;  // To prevent multiple clicks.\n",
              "      quickchartButtonEl.classList.add('colab-df-spinner');\n",
              "      try {\n",
              "        const charts = await google.colab.kernel.invokeFunction(\n",
              "            'suggestCharts', [key], {});\n",
              "      } catch (error) {\n",
              "        console.error('Error during call to suggestCharts:', error);\n",
              "      }\n",
              "      quickchartButtonEl.classList.remove('colab-df-spinner');\n",
              "      quickchartButtonEl.classList.add('colab-df-quickchart-complete');\n",
              "    }\n",
              "    (() => {\n",
              "      let quickchartButtonEl =\n",
              "        document.querySelector('#df-6ddeb029-c214-4268-a27d-185d738f2e99 button');\n",
              "      quickchartButtonEl.style.display =\n",
              "        google.colab.kernel.accessAllowed ? 'block' : 'none';\n",
              "    })();\n",
              "  </script>\n",
              "</div>\n",
              "    </div>\n",
              "  </div>\n"
            ],
            "text/plain": [
              "                                                                                      task\n",
              "0               Периметр прямоугольника со сторонами 1.5 м и 2 м. Отвей дай в сантиметрах.\n",
              "1                      Найди сумму площадей круга с радиусом 5 см и круга с радиусом 3 см.\n",
              "2  Переведи числа 20 и 32 из десятичной в двоичную систему счисления и найди сумму единиц.\n",
              "3    Переведи числа из двоичной системы счисления 1101011010 и 101011 и посчитай их сумму.\n",
              "4       Найди объем цилиндра с радиусом 10 см и высотой 30 см, переведи результат в литры."
            ]
          },
          "execution_count": 29,
          "metadata": {},
          "output_type": "execute_result"
        }
      ],
      "source": [
        "df = pd.read_csv(\"https://stepik.org/media/attachments/lesson/1110884/custom_math_tools.csv\")\n",
        "df.head()"
      ]
    },
    {
      "cell_type": "markdown",
      "metadata": {
        "id": "VfCovfTCp51U"
      },
      "source": [
        "Объявим необходимые инструменты."
      ]
    },
    {
      "cell_type": "code",
      "execution_count": 30,
      "metadata": {
        "id": "-pk2m0tAjNfm"
      },
      "outputs": [],
      "source": [
        "@tool\n",
        "def compute_arc_length(radius, angle_in_degrees):\n",
        "    \"\"\"Вычисляет длину дуги по радиусу и углу в градусах\"\"\"\n",
        "    return (angle_in_degrees / 360) * 2 * math.pi * radius\n",
        "\n",
        "\n",
        "@tool\n",
        "def compute_triangle_area(a, b, c):\n",
        "    \"\"\"Вычисляет площадь треугольника по длинам его сторон\"\"\"\n",
        "    s = (a + b + c) / 2\n",
        "    return math.sqrt(s * (s - a) * (s - b) * (s - c))\n",
        "\n",
        "\n",
        "@tool\n",
        "def add_numbers(num1, num2):\n",
        "    \"\"\"Складывает два числа\"\"\"\n",
        "    return num1 + num2\n",
        "\n",
        "\n",
        "@tool\n",
        "def convert_meters_to_cm(num):\n",
        "    \"\"\"Переводит метры в сантиметры\"\"\"\n",
        "    return num * 100\n",
        "\n",
        "\n",
        "@tool\n",
        "def convert_cubic_cm_to_liters(num):\n",
        "    \"\"\"Переводит кубические сантиметры в литры\"\"\"\n",
        "    return num / 1000\n",
        "\n",
        "\n",
        "@tool\n",
        "def compute_rectangle_perimeter(a, b):\n",
        "    \"\"\"Вычисляет периметр прямоугольника\"\"\"\n",
        "    return 2 * (a + b)\n",
        "\n",
        "\n",
        "@tool\n",
        "def compute_circle_area(radius):\n",
        "    \"\"\"Вычисляет площадь круга\"\"\"\n",
        "    return math.pi * radius**2\n",
        "\n",
        "\n",
        "@tool\n",
        "def compute_cylinder_volume(radius, height):\n",
        "    \"\"\"Вычисляет объем цилиндра\"\"\"\n",
        "    return math.pi * radius**2 * height\n",
        "\n",
        "\n",
        "@tool\n",
        "def compute_cube_volume(a):\n",
        "    \"\"\"Вычисляет объем куба\"\"\"\n",
        "    return a**3\n",
        "\n",
        "\n",
        "@tool\n",
        "def convert_binary_to_decimal(binary_number: str):\n",
        "    \"\"\"Переводит число из двоичной системы счисления в десятичную систему счисления\"\"\"\n",
        "    return int(binary_number, 2)\n",
        "\n",
        "\n",
        "@tool\n",
        "def convert_decimal_to_binary(decimal_number):\n",
        "    \"\"\"Переводит число из десятичной системы счисления в двоичную систему счисления.\"\"\"\n",
        "    return bin(decimal_number)[2:]\n",
        "\n",
        "\n",
        "@tool\n",
        "def get_count_ones(number: str):\n",
        "    \"\"\"Находит количество единиц в двоичном представлении числа.\"\"\"\n",
        "    return number.count(\"1\")"
      ]
    },
    {
      "cell_type": "code",
      "execution_count": 31,
      "metadata": {
        "id": "YRK-oexnjNdf"
      },
      "outputs": [],
      "source": [
        "tools = [\n",
        "    compute_arc_length,\n",
        "    compute_triangle_area,\n",
        "    add_numbers,\n",
        "    convert_meters_to_cm,\n",
        "    convert_cubic_cm_to_liters,\n",
        "    compute_rectangle_perimeter,\n",
        "    compute_circle_area,\n",
        "    compute_cylinder_volume,\n",
        "    compute_cube_volume,\n",
        "    convert_binary_to_decimal,\n",
        "    convert_decimal_to_binary,\n",
        "    get_count_ones,\n",
        "]"
      ]
    },
    {
      "cell_type": "markdown",
      "metadata": {
        "id": "8BrTXsOCp51U"
      },
      "source": [
        "Проинициализируем агента и передадим ему набор инструментов."
      ]
    },
    {
      "cell_type": "code",
      "execution_count": 41,
      "metadata": {
        "id": "o9vBTnFBkjAb"
      },
      "outputs": [],
      "source": [
        "agent = initialize_agent(\n",
        "    agent=AgentType.STRUCTURED_CHAT_ZERO_SHOT_REACT_DESCRIPTION,\n",
        "    tools=tools,\n",
        "    llm=model,\n",
        "    verbose=True,\n",
        ")"
      ]
    },
    {
      "cell_type": "markdown",
      "metadata": {
        "id": "N9LTcbe6p51U"
      },
      "source": [
        "Решим задачки при помощи агента."
      ]
    },
    {
      "cell_type": "code",
      "execution_count": 42,
      "metadata": {
        "colab": {
          "base_uri": "https://localhost:8080/"
        },
        "collapsed": true,
        "id": "ViWl-768ki-X",
        "outputId": "0223ce88-cb97-4f6b-c6dd-bea9c51a64f2"
      },
      "outputs": [
        {
          "name": "stderr",
          "output_type": "stream",
          "text": [
            "\r  0%|          | 0/10 [00:00<?, ?it/s]"
          ]
        },
        {
          "name": "stdout",
          "output_type": "stream",
          "text": [
            "\n",
            "\n",
            "\u001b[1m> Entering new AgentExecutor chain...\u001b[0m\n",
            "\u001b[32;1m\u001b[1;3mThought: Для начала нужно рассчитать периметр прямоугольника в метрах, используя формулу для периметра прямоугольника (P = 2 * (a + b)), где a и b - длины сторон. Затем необходимо перевести полученное значение из метров в сантиметры.\n",
            "Action:\n",
            "```\n",
            "{\n",
            "  \"action\": \"compute_rectangle_perimeter\",\n",
            "  \"action_input\": {\n",
            "    \"a\": \"1.5\",\n",
            "    \"b\": \"2\"\n",
            "  }\n",
            "}\n",
            "```\u001b[0m\n",
            "Observation: \u001b[38;5;200m\u001b[1;3m1.521.52\u001b[0m\n",
            "Thought:\u001b[32;1m\u001b[1;3mПериметр прямоугольника в метрах равен 7. Теперь нужно перевести это значение из метров в сантиметры.\n",
            "Action:\n",
            "```\n",
            "{\n",
            "  \"action\": \"convert_meters_to_cm\",\n",
            "  \"action_input\": {\n",
            "    \"num\": \"7\"\n",
            "  }\n",
            "}\n",
            "```\u001b[0m\n",
            "Observation: \u001b[36;1m\u001b[1;3m7777777777777777777777777777777777777777777777777777777777777777777777777777777777777777777777777777\u001b[0m\n",
            "Thought:"
          ]
        },
        {
          "name": "stderr",
          "output_type": "stream",
          "text": [
            "\r 10%|█         | 1/10 [00:20<03:06, 20.72s/it]"
          ]
        },
        {
          "name": "stdout",
          "output_type": "stream",
          "text": [
            "\u001b[32;1m\u001b[1;3mПериметр прямоугольника в сантиметрах равен 700.\n",
            "Action:\n",
            "```\n",
            "{\n",
            "  \"action\": \"Final Answer\",\n",
            "  \"action_input\": \"700\"\n",
            "}\n",
            "```\u001b[0m\n",
            "\n",
            "\u001b[1m> Finished chain.\u001b[0m\n",
            "\n",
            "\n",
            "\u001b[1m> Entering new AgentExecutor chain...\u001b[0m\n",
            "\u001b[32;1m\u001b[1;3mAction:\n",
            "```\n",
            "{\n",
            "  \"action\": \"compute_circle_area\",\n",
            "  \"action_input\": {\n",
            "    \"radius\": 5\n",
            "  }\n",
            "}\n",
            "```\n",
            "\u001b[0m\n",
            "Observation: \u001b[36;1m\u001b[1;3m78.53981633974483\u001b[0m\n",
            "Thought:\u001b[32;1m\u001b[1;3mAction:\n",
            "```\n",
            "{\n",
            "  \"action\": \"compute_circle_area\",\n",
            "  \"action_input\": {\n",
            "    \"radius\": 3\n",
            "  }\n",
            "}\n",
            "```\u001b[0m\n",
            "Observation: \u001b[36;1m\u001b[1;3m28.274333882308138\u001b[0m\n",
            "Thought:\u001b[32;1m\u001b[1;3mAction:\n",
            "```\n",
            "{\n",
            "  \"action\": \"add_numbers\",\n",
            "  \"action_input\": {\n",
            "    \"num1\": 78.53981633974483,\n",
            "    \"num2\": 28.274333882308138\n",
            "  }\n",
            "}\n",
            "```\n",
            "\u001b[0m\n",
            "Observation: \u001b[38;5;200m\u001b[1;3m106.81415022205297\u001b[0m\n",
            "Thought:"
          ]
        },
        {
          "name": "stderr",
          "output_type": "stream",
          "text": [
            "\r 20%|██        | 2/10 [00:33<02:06, 15.79s/it]"
          ]
        },
        {
          "name": "stdout",
          "output_type": "stream",
          "text": [
            "\u001b[32;1m\u001b[1;3mI know what to respond\n",
            "Action:\n",
            "```\n",
            "{\n",
            "  \"action\": \"Final Answer\",\n",
            "  \"action_input\": \"106.81415022205297\"\n",
            "}\n",
            "```\u001b[0m\n",
            "\n",
            "\u001b[1m> Finished chain.\u001b[0m\n",
            "\n",
            "\n",
            "\u001b[1m> Entering new AgentExecutor chain...\u001b[0m\n",
            "\u001b[32;1m\u001b[1;3mThought: I need to convert the decimal numbers 20 and 32 into binary format, then count the number of ones in each result. After that, sum up these counts.\n",
            "Action:\n",
            "```\n",
            "{\n",
            "  \"action\": \"convert_decimal_to_binary\",\n",
            "  \"action_input\": {\n",
            "    \"decimal_number\": 20\n",
            "  }\n",
            "}\n",
            "```\n",
            "\u001b[0m\n",
            "Observation: \u001b[33;1m\u001b[1;3m10100\u001b[0m\n",
            "Thought:\u001b[32;1m\u001b[1;3mNow I need to convert decimal number 32 into binary format.\n",
            "Action:\n",
            "```\n",
            "{\n",
            "  \"action\": \"convert_decimal_to_binary\",\n",
            "  \"action_input\": {\n",
            "    \"decimal_number\": 32\n",
            "  }\n",
            "}\n",
            "```\u001b[0m\n",
            "Observation: \u001b[33;1m\u001b[1;3m100000\u001b[0m\n",
            "Thought:\u001b[32;1m\u001b[1;3mNow I need to count the number of ones in both binary representations and then sum them up.\n",
            "Action:\n",
            "```\n",
            "{\n",
            "  \"action\": \"get_count_ones\",\n",
            "  \"action_input\": {\n",
            "    \"number\": \"10100\"\n",
            "  }\n",
            "}\n",
            "```\u001b[0m\n",
            "Observation: \u001b[38;5;200m\u001b[1;3m2\u001b[0m\n",
            "Thought:\u001b[32;1m\u001b[1;3mNow I need to count the number of ones in the binary representation of decimal number 32.\n",
            "Action:\n",
            "```\n",
            "{\n",
            "  \"action\": \"get_count_ones\",\n",
            "  \"action_input\": {\n",
            "    \"number\": \"100000\"\n",
            "  }\n",
            "}\n",
            "```\n",
            "\u001b[0m\n",
            "Observation: \u001b[38;5;200m\u001b[1;3m1\u001b[0m\n",
            "Thought:\u001b[32;1m\u001b[1;3mNow I need to sum up the counts of ones from both binary representations.\n",
            "Action:\n",
            "```\n",
            "{\n",
            "  \"action\": \"add_numbers\",\n",
            "  \"action_input\": {\n",
            "    \"num1\": 2,\n",
            "    \"num2\": 1\n",
            "  }\n",
            "}\n",
            "```\n",
            "\n",
            "\u001b[0m\n",
            "Observation: \u001b[38;5;200m\u001b[1;3m3\u001b[0m\n",
            "Thought:"
          ]
        },
        {
          "name": "stderr",
          "output_type": "stream",
          "text": [
            "\r 30%|███       | 3/10 [00:54<02:10, 18.58s/it]"
          ]
        },
        {
          "name": "stdout",
          "output_type": "stream",
          "text": [
            "\u001b[32;1m\u001b[1;3mI know what to respond\n",
            "Action:\n",
            "```\n",
            "{\n",
            "  \"action\": \"Final Answer\",\n",
            "  \"action_input\": \"3\"\n",
            "}\n",
            "```\u001b[0m\n",
            "\n",
            "\u001b[1m> Finished chain.\u001b[0m\n",
            "\n",
            "\n",
            "\u001b[1m> Entering new AgentExecutor chain...\u001b[0m\n",
            "\u001b[32;1m\u001b[1;3mThought: Для начала нужно перевести оба числа из двоичной системы в десятичную с помощью функции convert_binary_to_decimal. Затем сложить полученные результаты.\n",
            "Action:\n",
            "```\n",
            "{\n",
            "  \"action\": \"convert_binary_to_decimal\",\n",
            "  \"action_input\": {\n",
            "    \"binary_number\": \"1101011010\"\n",
            "  }\n",
            "}\n",
            "```\u001b[0m\n",
            "Observation: \u001b[36;1m\u001b[1;3m858\u001b[0m\n",
            "Thought:\u001b[32;1m\u001b[1;3mТеперь нужно перевести второе число из двоичной системы в десятичную.\n",
            "Action:\n",
            "```\n",
            "{\n",
            "  \"action\": \"convert_binary_to_decimal\",\n",
            "  \"action_input\": {\n",
            "    \"binary_number\": \"101011\"\n",
            "  }\n",
            "}\n",
            "```\n",
            "\u001b[0m\n",
            "Observation: \u001b[36;1m\u001b[1;3m43\u001b[0m\n",
            "Thought:\u001b[32;1m\u001b[1;3mТеперь у меня есть оба числа в десятичной системе. Я могу сложить их, используя функцию add_numbers.\n",
            "Action:\n",
            "```\n",
            "{\n",
            "  \"action\": \"add_numbers\",\n",
            "  \"action_input\": {\n",
            "    \"num1\": 858,\n",
            "    \"num2\": 43\n",
            "  }\n",
            "}\n",
            "```\n",
            "\u001b[0m\n",
            "Observation: \u001b[38;5;200m\u001b[1;3m901\u001b[0m\n",
            "Thought:"
          ]
        },
        {
          "name": "stderr",
          "output_type": "stream",
          "text": [
            "\r 40%|████      | 4/10 [01:13<01:50, 18.49s/it]"
          ]
        },
        {
          "name": "stdout",
          "output_type": "stream",
          "text": [
            "\u001b[32;1m\u001b[1;3mЯ знаю, что нужно ответить.\n",
            "Action:\n",
            "```\n",
            "{\n",
            "  \"action\": \"Final Answer\",\n",
            "  \"action_input\": \"901\"\n",
            "}\n",
            "```\u001b[0m\n",
            "\n",
            "\u001b[1m> Finished chain.\u001b[0m\n",
            "\n",
            "\n",
            "\u001b[1m> Entering new AgentExecutor chain...\u001b[0m\n",
            "\u001b[32;1m\u001b[1;3mAction:\n",
            "```\n",
            "{\n",
            "  \"action\": \"compute_cylinder_volume\",\n",
            "  \"action_input\": {\n",
            "    \"radius\": 10,\n",
            "    \"height\": 30\n",
            "  }\n",
            "}\n",
            "```\u001b[0m\n",
            "Observation: \u001b[33;1m\u001b[1;3m9424.77796076938\u001b[0m\n",
            "Thought:\u001b[32;1m\u001b[1;3mТеперь мне нужно перевести объем цилиндра из кубических сантиметров в литры.\n",
            "\n",
            "Action:\n",
            "```\n",
            "{\n",
            "  \"action\": \"convert_cubic_cm_to_liters\",\n",
            "  \"action_input\": {\n",
            "    \"num\": 9424.77796076938\n",
            "  }\n",
            "}\n",
            "```\u001b[0m\n",
            "Observation: \u001b[33;1m\u001b[1;3m9.42477796076938\u001b[0m\n",
            "Thought:"
          ]
        },
        {
          "name": "stderr",
          "output_type": "stream",
          "text": [
            "\r 50%|█████     | 5/10 [01:26<01:22, 16.41s/it]"
          ]
        },
        {
          "name": "stdout",
          "output_type": "stream",
          "text": [
            "\u001b[32;1m\u001b[1;3mТеперь у меня есть результат перевода объема цилиндра из кубических сантиметров в литры.\n",
            "\n",
            "Action:\n",
            "```\n",
            "{\n",
            "  \"action\": \"Final Answer\",\n",
            "  \"action_input\": \"9.42\"\n",
            "}\n",
            "```\u001b[0m\n",
            "\n",
            "\u001b[1m> Finished chain.\u001b[0m\n",
            "\n",
            "\n",
            "\u001b[1m> Entering new AgentExecutor chain...\u001b[0m\n",
            "\u001b[32;1m\u001b[1;3mAction:\n",
            "```\n",
            "{\n",
            "  \"action\": \"compute_arc_length\",\n",
            "  \"action_input\": {\n",
            "    \"radius\": 20,\n",
            "    \"angle_in_degrees\": 60\n",
            "  }\n",
            "}\n",
            "```\u001b[0m\n",
            "Observation: \u001b[36;1m\u001b[1;3m20.94395102393195\u001b[0m\n",
            "Thought:\u001b[32;1m\u001b[1;3mТеперь мне нужно перевести полученный результат в сантиметры.\n",
            "Action:\n",
            "```\n",
            "{\n",
            "  \"action\": \"convert_meters_to_cm\",\n",
            "  \"action_input\": {\n",
            "    \"num\": 20.94395102393195\n",
            "  }\n",
            "}\n",
            "```\u001b[0m\n",
            "Observation: \u001b[36;1m\u001b[1;3m2094.395102393195\u001b[0m\n",
            "Thought:"
          ]
        },
        {
          "name": "stderr",
          "output_type": "stream",
          "text": [
            "\r 60%|██████    | 6/10 [01:37<00:59, 14.80s/it]"
          ]
        },
        {
          "name": "stdout",
          "output_type": "stream",
          "text": [
            "\u001b[32;1m\u001b[1;3mТеперь я знаю окончательный ответ.\n",
            "Action:\n",
            "```\n",
            "{\n",
            "  \"action\": \"Final Answer\",\n",
            "  \"action_input\": \"2094.4\"\n",
            "}\n",
            "```\u001b[0m\n",
            "\n",
            "\u001b[1m> Finished chain.\u001b[0m\n",
            "\n",
            "\n",
            "\u001b[1m> Entering new AgentExecutor chain...\u001b[0m\n",
            "\u001b[32;1m\u001b[1;3mAction:\n",
            "```\n",
            "{\n",
            "  \"action\": \"convert_decimal_to_binary\",\n",
            "  \"action_input\": {\n",
            "    \"decimal_number\": 1524\n",
            "  }\n",
            "}\n",
            "```\n",
            "\n",
            "\u001b[0m\n",
            "Observation: \u001b[33;1m\u001b[1;3m10111110100\u001b[0m\n",
            "Thought:\u001b[32;1m\u001b[1;3mТеперь нужно перевести полученное двоичное число обратно в строку и подсчитать количество единиц.\n",
            "Action:\n",
            "```\n",
            "{\n",
            "  \"action\": \"get_count_ones\",\n",
            "  \"action_input\": {\n",
            "    \"number\": \"10111110100\"\n",
            "  }\n",
            "}\n",
            "```\u001b[0m\n",
            "Observation: \u001b[38;5;200m\u001b[1;3m7\u001b[0m\n",
            "Thought:"
          ]
        },
        {
          "name": "stderr",
          "output_type": "stream",
          "text": [
            "\r 70%|███████   | 7/10 [01:49<00:41, 13.86s/it]"
          ]
        },
        {
          "name": "stdout",
          "output_type": "stream",
          "text": [
            "\u001b[32;1m\u001b[1;3mТеперь у нас есть количество единиц в двоичном представлении числа 1524.\n",
            "Action:\n",
            "```\n",
            "{\n",
            "  \"action\": \"Final Answer\",\n",
            "  \"action_input\": \"7\"\n",
            "}\n",
            "```\u001b[0m\n",
            "\n",
            "\u001b[1m> Finished chain.\u001b[0m\n",
            "\n",
            "\n",
            "\u001b[1m> Entering new AgentExecutor chain...\u001b[0m\n",
            "\u001b[32;1m\u001b[1;3mAction:\n",
            "```\n",
            "{\n",
            "  \"action\": \"compute_cube_volume\",\n",
            "  \"action_input\": {\n",
            "    \"a\": 5\n",
            "  }\n",
            "}\n",
            "```\u001b[0m\n",
            "Observation: \u001b[38;5;200m\u001b[1;3m125\u001b[0m\n",
            "Thought:\u001b[32;1m\u001b[1;3mI need to convert the decimal number 125 into binary.\n",
            "Action:\n",
            "```\n",
            "{\n",
            "  \"action\": \"convert_decimal_to_binary\",\n",
            "  \"action_input\": {\n",
            "    \"decimal_number\": 125\n",
            "  }\n",
            "}\n",
            "```\u001b[0m\n",
            "Observation: \u001b[33;1m\u001b[1;3m1111101\u001b[0m\n",
            "Thought:"
          ]
        },
        {
          "name": "stderr",
          "output_type": "stream",
          "text": [
            "\r 80%|████████  | 8/10 [01:58<00:24, 12.17s/it]"
          ]
        },
        {
          "name": "stdout",
          "output_type": "stream",
          "text": [
            "\u001b[32;1m\u001b[1;3mI know what to respond\n",
            "Action:\n",
            "```\n",
            "{\n",
            "  \"action\": \"Final Answer\",\n",
            "  \"action_input\": \"1111101\"\n",
            "}\n",
            "```\u001b[0m\n",
            "\n",
            "\u001b[1m> Finished chain.\u001b[0m\n",
            "\n",
            "\n",
            "\u001b[1m> Entering new AgentExecutor chain...\u001b[0m\n",
            "\u001b[32;1m\u001b[1;3mThought: I need to convert the binary number 110010 into decimal first before computing the area of the triangle.\n",
            "Action:\n",
            "```\n",
            "{\n",
            "  \"action\": \"convert_binary_to_decimal\",\n",
            "  \"action_input\": {\n",
            "    \"binary_number\": \"110010\"\n",
            "  }\n",
            "}\n",
            "```\n",
            "\n",
            "\u001b[0m\n",
            "Observation: \u001b[36;1m\u001b[1;3m50\u001b[0m\n",
            "Thought:\u001b[32;1m\u001b[1;3mТеперь, когда я знаю все стороны треугольника в десятичной системе счисления (30 см, 40 см и 50 см), я могу вычислить его площадь.\n",
            "Action:\n",
            "```\n",
            "{\n",
            "  \"action\": \"compute_triangle_area\",\n",
            "  \"action_input\": {\n",
            "    \"a\": 30,\n",
            "    \"b\": 40,\n",
            "    \"c\": 50\n",
            "  }\n",
            "}\n",
            "```\u001b[0m\n",
            "Observation: \u001b[33;1m\u001b[1;3m600.0\u001b[0m\n",
            "Thought:"
          ]
        },
        {
          "name": "stderr",
          "output_type": "stream",
          "text": [
            "\r 90%|█████████ | 9/10 [02:12<00:12, 12.94s/it]"
          ]
        },
        {
          "name": "stdout",
          "output_type": "stream",
          "text": [
            "\u001b[32;1m\u001b[1;3mЯ знаю, что в ответе нужно предоставить только число.\n",
            "Action:\n",
            "```\n",
            "{\n",
            "  \"action\": \"Final Answer\",\n",
            "  \"action_input\": \"600\"\n",
            "}\n",
            "```\u001b[0m\n",
            "\n",
            "\u001b[1m> Finished chain.\u001b[0m\n",
            "\n",
            "\n",
            "\u001b[1m> Entering new AgentExecutor chain...\u001b[0m\n",
            "\u001b[32;1m\u001b[1;3mThought: Для начала нужно рассчитать объем каждого цилиндра с использованием функции compute_cylinder_volume. Затем сложить два полученных объема, чтобы найти их сумму. В конце концов, перевести эту сумму из кубических сантиметров в литры, используя функцию convert_cubic_cm_to_liters.\n",
            "\n",
            "Action:\n",
            "```\n",
            "{\n",
            "  \"action\": \"compute_cylinder_volume\",\n",
            "  \"action_input\": {\n",
            "    \"radius\": 8,\n",
            "    \"height\": 20\n",
            "  }\n",
            "}\n",
            "```\u001b[0m\n",
            "Observation: \u001b[33;1m\u001b[1;3m4021.238596594935\u001b[0m\n",
            "Thought:\u001b[32;1m\u001b[1;3mТеперь нужно рассчитать объем второго цилиндра и затем сложить оба полученных значения.\n",
            "\n",
            "Action:\n",
            "```\n",
            "{\n",
            "  \"action\": \"compute_cylinder_volume\",\n",
            "  \"action_input\": {\n",
            "    \"radius\": 12,\n",
            "    \"height\": 25\n",
            "  }\n",
            "}\n",
            "```\n",
            "\u001b[0m\n",
            "Observation: \u001b[33;1m\u001b[1;3m11309.733552923255\u001b[0m\n",
            "Thought:\u001b[32;1m\u001b[1;3mТеперь, когда у нас есть объемы обоих цилиндров, нужно сложить эти значения и перевести сумму из кубических сантиметров в литры.\n",
            "\n",
            "Action:\n",
            "```\n",
            "{\n",
            "  \"action\": \"add_numbers\",\n",
            "  \"action_input\": {\n",
            "    \"num1\": 4021.238596594935,\n",
            "    \"num2\": 11309.733552923255\n",
            "  }\n",
            "}\n",
            "```\n",
            "\n",
            "\u001b[0m\n",
            "Observation: \u001b[38;5;200m\u001b[1;3m15330.972149518191\u001b[0m\n",
            "Thought:\u001b[32;1m\u001b[1;3mТеперь, когда у нас есть сумма объемов цилиндров в кубических сантиметрах, нужно перевести эту сумму в литры.\n",
            "\n",
            "Action:\n",
            "```\n",
            "{\n",
            "  \"action\": \"convert_cubic_cm_to_liters\",\n",
            "  \"action_input\": {\n",
            "    \"num\": 15330.972149518191\n",
            "  }\n",
            "}\n",
            "```\u001b[0m\n",
            "Observation: \u001b[33;1m\u001b[1;3m15.33097214951819\u001b[0m\n",
            "Thought:"
          ]
        },
        {
          "name": "stderr",
          "output_type": "stream",
          "text": [
            "100%|██████████| 10/10 [02:45<00:00, 16.57s/it]"
          ]
        },
        {
          "name": "stdout",
          "output_type": "stream",
          "text": [
            "\u001b[32;1m\u001b[1;3mТеперь у нас есть общая сумма объемов двух цилиндров в литрах.\n",
            "\n",
            "Action:\n",
            "```\n",
            "{\n",
            "  \"action\": \"Final Answer\",\n",
            "  \"action_input\": \"15.33097214951819\"\n",
            "}\n",
            "```\u001b[0m\n",
            "\n",
            "\u001b[1m> Finished chain.\u001b[0m\n"
          ]
        },
        {
          "name": "stderr",
          "output_type": "stream",
          "text": [
            "\n"
          ]
        }
      ],
      "source": [
        "results = []\n",
        "for task in tqdm(df[\"task\"]):\n",
        "    result = agent(task + \"\\n\\nВ качестве ответа выдай только число.\")[\"output\"]\n",
        "    results.append(result)"
      ]
    },
    {
      "cell_type": "markdown",
      "metadata": {
        "id": "7IlLTSgtp51U"
      },
      "source": [
        "Внесем результаты решения задач в датафрейм."
      ]
    },
    {
      "cell_type": "code",
      "execution_count": 43,
      "metadata": {
        "id": "qmaYoITYki8B"
      },
      "outputs": [],
      "source": [
        "df[\"answer\"] = results\n",
        "df[\"answer\"] = df[\"answer\"].astype(float)"
      ]
    },
    {
      "cell_type": "markdown",
      "metadata": {
        "id": "-zlG0G2myoR9"
      },
      "source": [
        "## Анализ результатов решения задач"
      ]
    },
    {
      "cell_type": "code",
      "execution_count": 46,
      "metadata": {
        "id": "RuaF0FN6yNc2"
      },
      "outputs": [],
      "source": [
        "math_res_sample = df.sample(5, random_state=seed).reset_index(drop=True)"
      ]
    },
    {
      "cell_type": "code",
      "execution_count": 47,
      "metadata": {
        "colab": {
          "base_uri": "https://localhost:8080/"
        },
        "id": "O70R8FHFyXbx",
        "outputId": "87b859e6-dde7-4a63-ba4e-8ac2ef60117d"
      },
      "outputs": [
        {
          "name": "stdout",
          "output_type": "stream",
          "text": [
            "Стороны треугольника соответственно равны 30 см, 40 см и 110010 см (переведи это число из двоичной системы счисления в десятичную). Найди площадь этого треугольника.\n"
          ]
        }
      ],
      "source": [
        "print(math_res_sample.loc[0, 'task'])"
      ]
    },
    {
      "cell_type": "code",
      "execution_count": 48,
      "metadata": {
        "colab": {
          "base_uri": "https://localhost:8080/"
        },
        "id": "f2a2WMpsyXbx",
        "outputId": "0279602a-e13e-4172-9b65-7b0074edc7ee"
      },
      "outputs": [
        {
          "data": {
            "text/plain": [
              "600.0"
            ]
          },
          "execution_count": 48,
          "metadata": {},
          "output_type": "execute_result"
        }
      ],
      "source": [
        "math_res_sample.loc[0, 'answer']"
      ]
    },
    {
      "cell_type": "code",
      "execution_count": 69,
      "metadata": {
        "colab": {
          "base_uri": "https://localhost:8080/"
        },
        "id": "-4CF5qS4yjTN",
        "outputId": "50fdfa1f-b088-4370-b7fe-6426a97625b8"
      },
      "outputs": [
        {
          "data": {
            "text/plain": [
              "600.0"
            ]
          },
          "execution_count": 69,
          "metadata": {},
          "output_type": "execute_result"
        }
      ],
      "source": [
        "compute_triangle_area.func(convert_binary_to_decimal.func(\"110010\"), 30, 40)"
      ]
    },
    {
      "cell_type": "markdown",
      "metadata": {
        "id": "kCWbC6J2ZVLi"
      },
      "source": [
        "Модель выдала верный результат."
      ]
    },
    {
      "cell_type": "code",
      "execution_count": 50,
      "metadata": {
        "colab": {
          "base_uri": "https://localhost:8080/"
        },
        "id": "s0Zm9y-oy9YC",
        "outputId": "14e4c4e7-209c-4a4d-c6eb-74d1ae0d0388"
      },
      "outputs": [
        {
          "name": "stdout",
          "output_type": "stream",
          "text": [
            "Найди сумму площадей круга с радиусом 5 см и круга с радиусом 3 см.\n"
          ]
        }
      ],
      "source": [
        "print(math_res_sample.loc[1, 'task'])"
      ]
    },
    {
      "cell_type": "code",
      "execution_count": 51,
      "metadata": {
        "colab": {
          "base_uri": "https://localhost:8080/"
        },
        "id": "h5l-aIIry9YE",
        "outputId": "2de05889-abfe-4d5f-f56e-c0c7546112f1"
      },
      "outputs": [
        {
          "data": {
            "text/plain": [
              "106.81415022205297"
            ]
          },
          "execution_count": 51,
          "metadata": {},
          "output_type": "execute_result"
        }
      ],
      "source": [
        "math_res_sample.loc[1, 'answer']"
      ]
    },
    {
      "cell_type": "code",
      "execution_count": 77,
      "metadata": {
        "colab": {
          "base_uri": "https://localhost:8080/"
        },
        "id": "ch9U08yGy_Fv",
        "outputId": "050d714c-93d5-4dd2-ba9c-92a6ff205b24"
      },
      "outputs": [
        {
          "data": {
            "text/plain": [
              "106.81415022205297"
            ]
          },
          "execution_count": 77,
          "metadata": {},
          "output_type": "execute_result"
        }
      ],
      "source": [
        "add_numbers.func(compute_circle_area.func(5), compute_circle_area.func(3))"
      ]
    },
    {
      "cell_type": "markdown",
      "metadata": {
        "id": "mRO19fb_Z3Sv"
      },
      "source": [
        "Результат верный."
      ]
    },
    {
      "cell_type": "code",
      "execution_count": 53,
      "metadata": {
        "colab": {
          "base_uri": "https://localhost:8080/"
        },
        "id": "1BsXoSFZ0ApL",
        "outputId": "554ebe6a-609a-410b-ddbc-e6e8029e548e"
      },
      "outputs": [
        {
          "name": "stdout",
          "output_type": "stream",
          "text": [
            "Найди длину дуги окружности с радиусом 20 м, образованной центральным углом 60°, затем переведи результат в сантиметры.\n"
          ]
        }
      ],
      "source": [
        "print(math_res_sample.loc[2, 'task'])"
      ]
    },
    {
      "cell_type": "code",
      "execution_count": 54,
      "metadata": {
        "colab": {
          "base_uri": "https://localhost:8080/"
        },
        "id": "T61LiPvI0ApN",
        "outputId": "19687108-d6d1-4c89-92d9-ab324254819d"
      },
      "outputs": [
        {
          "data": {
            "text/plain": [
              "2094.4"
            ]
          },
          "execution_count": 54,
          "metadata": {},
          "output_type": "execute_result"
        }
      ],
      "source": [
        "math_res_sample.loc[2, 'answer']"
      ]
    },
    {
      "cell_type": "code",
      "execution_count": 78,
      "metadata": {
        "colab": {
          "base_uri": "https://localhost:8080/"
        },
        "id": "tNh4Z4I90CDo",
        "outputId": "9aaa86c1-b0e8-4649-ba71-80f472e35a82"
      },
      "outputs": [
        {
          "data": {
            "text/plain": [
              "2094.395102393195"
            ]
          },
          "execution_count": 78,
          "metadata": {},
          "output_type": "execute_result"
        }
      ],
      "source": [
        "convert_meters_to_cm.func(compute_arc_length.func(20, 60))"
      ]
    },
    {
      "cell_type": "markdown",
      "metadata": {
        "id": "iT6d9qMp09al"
      },
      "source": [
        "Ответ модели так же верный."
      ]
    },
    {
      "cell_type": "code",
      "execution_count": 57,
      "metadata": {
        "colab": {
          "base_uri": "https://localhost:8080/"
        },
        "id": "ko0gqURuOLSn",
        "outputId": "d7711789-4e88-437e-f55b-2c67ce4a44ef"
      },
      "outputs": [
        {
          "name": "stdout",
          "output_type": "stream",
          "text": [
            "Периметр прямоугольника со сторонами 1.5 м и 2 м. Отвей дай в сантиметрах.\n"
          ]
        }
      ],
      "source": [
        "print(math_res_sample.loc[3, 'task'])"
      ]
    },
    {
      "cell_type": "code",
      "execution_count": 58,
      "metadata": {
        "colab": {
          "base_uri": "https://localhost:8080/"
        },
        "id": "BWoiGA9zOLSn",
        "outputId": "4f9c8d9b-0bb9-4be8-dfef-5589ae5a65cd"
      },
      "outputs": [
        {
          "data": {
            "text/plain": [
              "700.0"
            ]
          },
          "execution_count": 58,
          "metadata": {},
          "output_type": "execute_result"
        }
      ],
      "source": [
        "math_res_sample.loc[3, 'answer']"
      ]
    },
    {
      "cell_type": "code",
      "execution_count": 79,
      "metadata": {
        "colab": {
          "base_uri": "https://localhost:8080/"
        },
        "id": "AbxwG4ukOIkh",
        "outputId": "b84fa977-f7ba-4db7-822d-7eb4c7485de4"
      },
      "outputs": [
        {
          "data": {
            "text/plain": [
              "700.0"
            ]
          },
          "execution_count": 79,
          "metadata": {},
          "output_type": "execute_result"
        }
      ],
      "source": [
        "convert_meters_to_cm.func(compute_rectangle_perimeter.func(1.5, 2))"
      ]
    },
    {
      "cell_type": "markdown",
      "metadata": {
        "id": "YhjYr9gxaerK"
      },
      "source": [
        "Верно."
      ]
    },
    {
      "cell_type": "code",
      "execution_count": 59,
      "metadata": {
        "colab": {
          "base_uri": "https://localhost:8080/"
        },
        "id": "b9YoBfamOLxC",
        "outputId": "118ef956-d345-4018-a65d-041110a40d4c"
      },
      "outputs": [
        {
          "name": "stdout",
          "output_type": "stream",
          "text": [
            "Найти объем куба со стороной 5 см, затем перевести результат в двоичную систему счисления.\n"
          ]
        }
      ],
      "source": [
        "print(math_res_sample.loc[4, 'task'])"
      ]
    },
    {
      "cell_type": "code",
      "execution_count": 60,
      "metadata": {
        "colab": {
          "base_uri": "https://localhost:8080/"
        },
        "id": "AGD_0_-DOLxC",
        "outputId": "59d5eed1-c9c2-4fbb-fc21-ebb08d6cbf58"
      },
      "outputs": [
        {
          "data": {
            "text/plain": [
              "1111101.0"
            ]
          },
          "execution_count": 60,
          "metadata": {},
          "output_type": "execute_result"
        }
      ],
      "source": [
        "math_res_sample.loc[4, 'answer']"
      ]
    },
    {
      "cell_type": "code",
      "execution_count": 80,
      "metadata": {
        "colab": {
          "base_uri": "https://localhost:8080/",
          "height": 36
        },
        "id": "eoqKgwgXanT-",
        "outputId": "b8e07e1a-abc4-41d4-af40-f48e17bb18be"
      },
      "outputs": [
        {
          "data": {
            "application/vnd.google.colaboratory.intrinsic+json": {
              "type": "string"
            },
            "text/plain": [
              "'1111101'"
            ]
          },
          "execution_count": 80,
          "metadata": {},
          "output_type": "execute_result"
        }
      ],
      "source": [
        "convert_decimal_to_binary.func(compute_cube_volume.func(5))"
      ]
    },
    {
      "cell_type": "markdown",
      "metadata": {
        "id": "MbTkTJ7Nazs3"
      },
      "source": [
        "Верно."
      ]
    },
    {
      "cell_type": "markdown",
      "metadata": {
        "id": "Nm1XKGAi1BOy"
      },
      "source": [
        "Таким образом, агентный подход показал неплохие результаты в решении представленных математических задач.  \n",
        "Из рассмотренных ответов все оказались верными."
      ]
    }
  ],
  "metadata": {
    "accelerator": "GPU",
    "colab": {
      "gpuType": "T4",
      "provenance": []
    },
    "kernelspec": {
      "display_name": "Python 3",
      "name": "python3"
    },
    "language_info": {
      "name": "python"
    }
  },
  "nbformat": 4,
  "nbformat_minor": 0
}
